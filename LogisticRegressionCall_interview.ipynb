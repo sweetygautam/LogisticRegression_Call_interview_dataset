{
 "cells": [
  {
   "cell_type": "markdown",
   "id": "490aad32",
   "metadata": {},
   "source": [
    "Dataset Detail:\n",
    "\n",
    "This dataset includes 10 features:\n",
    "\n",
    "years_of_experience - (float64) Number of years of experience the candidate has in their field\n",
    "\n",
    "functional_competency_score - (float64) A score representing the candidate's functional competency based on a test\n",
    "\n",
    "top1_skills_score - (float64) Score of the most valuable skill the candidate possesses\n",
    "\n",
    "top2_skills_score - (float64) Score of the second most valuable skill the candidate possesses\n",
    "\n",
    "top3_skills_score - (float64) Score of the third most valuable skill the candidate possesses\n",
    "\n",
    "behavior_competency_score - (float64) A score representing the candidate's behavior competency derived from an HR test\n",
    "\n",
    "top1_behavior_skill_score - (float64) Score of the most valuable behavior skill the candidate possesses\n",
    "\n",
    "top2_behavior_skill_score - (float64) Score of the second most valuable behavior skill the candidate possesses\n",
    "\n",
    "top3_behavior_skill_score - (float64) Score of the third most valuable behavior skill the candidate possesses\n",
    "\n",
    "call_for_interview - (0 or 1) Binary variable indicating if the candidate was called for an interview or not"
   ]
  },
  {
   "cell_type": "markdown",
   "id": "50cc04ec",
   "metadata": {},
   "source": [
    "import numpy as np\n",
    "import pandas as pd\n",
    "import matplotlib.pyplot as plt\n",
    "import seaborn as sns"
   ]
  },
  {
   "cell_type": "code",
   "execution_count": 11,
   "id": "9f8c57d5",
   "metadata": {},
   "outputs": [],
   "source": [
    "import pandas as pd\n",
    "import numpy as np\n",
    "import seaborn as sns"
   ]
  },
  {
   "cell_type": "code",
   "execution_count": 7,
   "id": "42da5289",
   "metadata": {},
   "outputs": [
    {
     "data": {
      "text/html": [
       "<div>\n",
       "<style scoped>\n",
       "    .dataframe tbody tr th:only-of-type {\n",
       "        vertical-align: middle;\n",
       "    }\n",
       "\n",
       "    .dataframe tbody tr th {\n",
       "        vertical-align: top;\n",
       "    }\n",
       "\n",
       "    .dataframe thead th {\n",
       "        text-align: right;\n",
       "    }\n",
       "</style>\n",
       "<table border=\"1\" class=\"dataframe\">\n",
       "  <thead>\n",
       "    <tr style=\"text-align: right;\">\n",
       "      <th></th>\n",
       "      <th>years_of_experience</th>\n",
       "      <th>functional_competency_score</th>\n",
       "      <th>top1_skills_score</th>\n",
       "      <th>top2_skills_score</th>\n",
       "      <th>top3_skills_score</th>\n",
       "      <th>behavior_competency_score</th>\n",
       "      <th>top1_behavior_skill_score</th>\n",
       "      <th>top2_behavior_skill_score</th>\n",
       "      <th>top3_behavior_skill_score</th>\n",
       "      <th>call_for_interview</th>\n",
       "    </tr>\n",
       "  </thead>\n",
       "  <tbody>\n",
       "    <tr>\n",
       "      <th>0</th>\n",
       "      <td>0.333333</td>\n",
       "      <td>0.749498</td>\n",
       "      <td>0.777778</td>\n",
       "      <td>0.7</td>\n",
       "      <td>0.8</td>\n",
       "      <td>0.769231</td>\n",
       "      <td>0.931689</td>\n",
       "      <td>0.662042</td>\n",
       "      <td>0.752463</td>\n",
       "      <td>1</td>\n",
       "    </tr>\n",
       "    <tr>\n",
       "      <th>1</th>\n",
       "      <td>0.133333</td>\n",
       "      <td>0.490638</td>\n",
       "      <td>0.777778</td>\n",
       "      <td>0.3</td>\n",
       "      <td>0.4</td>\n",
       "      <td>0.153846</td>\n",
       "      <td>0.352093</td>\n",
       "      <td>0.132231</td>\n",
       "      <td>0.316905</td>\n",
       "      <td>0</td>\n",
       "    </tr>\n",
       "    <tr>\n",
       "      <th>2</th>\n",
       "      <td>0.000000</td>\n",
       "      <td>0.460256</td>\n",
       "      <td>0.444444</td>\n",
       "      <td>0.3</td>\n",
       "      <td>0.3</td>\n",
       "      <td>0.051282</td>\n",
       "      <td>0.052347</td>\n",
       "      <td>0.089765</td>\n",
       "      <td>0.254859</td>\n",
       "      <td>0</td>\n",
       "    </tr>\n",
       "    <tr>\n",
       "      <th>3</th>\n",
       "      <td>0.000000</td>\n",
       "      <td>0.507347</td>\n",
       "      <td>0.555556</td>\n",
       "      <td>0.4</td>\n",
       "      <td>0.5</td>\n",
       "      <td>0.384615</td>\n",
       "      <td>0.309913</td>\n",
       "      <td>0.289758</td>\n",
       "      <td>0.440784</td>\n",
       "      <td>0</td>\n",
       "    </tr>\n",
       "    <tr>\n",
       "      <th>4</th>\n",
       "      <td>0.400000</td>\n",
       "      <td>0.662020</td>\n",
       "      <td>0.666667</td>\n",
       "      <td>0.7</td>\n",
       "      <td>0.5</td>\n",
       "      <td>0.461538</td>\n",
       "      <td>0.497929</td>\n",
       "      <td>0.397544</td>\n",
       "      <td>0.392760</td>\n",
       "      <td>1</td>\n",
       "    </tr>\n",
       "    <tr>\n",
       "      <th>...</th>\n",
       "      <td>...</td>\n",
       "      <td>...</td>\n",
       "      <td>...</td>\n",
       "      <td>...</td>\n",
       "      <td>...</td>\n",
       "      <td>...</td>\n",
       "      <td>...</td>\n",
       "      <td>...</td>\n",
       "      <td>...</td>\n",
       "      <td>...</td>\n",
       "    </tr>\n",
       "    <tr>\n",
       "      <th>295</th>\n",
       "      <td>0.000000</td>\n",
       "      <td>0.576078</td>\n",
       "      <td>0.555556</td>\n",
       "      <td>0.6</td>\n",
       "      <td>0.6</td>\n",
       "      <td>0.230769</td>\n",
       "      <td>0.421105</td>\n",
       "      <td>0.354628</td>\n",
       "      <td>0.096438</td>\n",
       "      <td>0</td>\n",
       "    </tr>\n",
       "    <tr>\n",
       "      <th>296</th>\n",
       "      <td>0.000000</td>\n",
       "      <td>0.587738</td>\n",
       "      <td>0.555556</td>\n",
       "      <td>0.5</td>\n",
       "      <td>0.5</td>\n",
       "      <td>0.230769</td>\n",
       "      <td>0.426939</td>\n",
       "      <td>0.201772</td>\n",
       "      <td>0.430858</td>\n",
       "      <td>1</td>\n",
       "    </tr>\n",
       "    <tr>\n",
       "      <th>297</th>\n",
       "      <td>0.400000</td>\n",
       "      <td>0.740044</td>\n",
       "      <td>0.666667</td>\n",
       "      <td>0.5</td>\n",
       "      <td>0.7</td>\n",
       "      <td>0.615385</td>\n",
       "      <td>0.681916</td>\n",
       "      <td>0.562821</td>\n",
       "      <td>0.681403</td>\n",
       "      <td>1</td>\n",
       "    </tr>\n",
       "    <tr>\n",
       "      <th>298</th>\n",
       "      <td>0.333333</td>\n",
       "      <td>0.654656</td>\n",
       "      <td>0.666667</td>\n",
       "      <td>0.5</td>\n",
       "      <td>0.7</td>\n",
       "      <td>0.589744</td>\n",
       "      <td>0.585173</td>\n",
       "      <td>0.549063</td>\n",
       "      <td>0.663228</td>\n",
       "      <td>1</td>\n",
       "    </tr>\n",
       "    <tr>\n",
       "      <th>299</th>\n",
       "      <td>0.600000</td>\n",
       "      <td>0.754280</td>\n",
       "      <td>0.222222</td>\n",
       "      <td>0.7</td>\n",
       "      <td>0.8</td>\n",
       "      <td>0.820513</td>\n",
       "      <td>0.936553</td>\n",
       "      <td>0.793214</td>\n",
       "      <td>0.718935</td>\n",
       "      <td>1</td>\n",
       "    </tr>\n",
       "  </tbody>\n",
       "</table>\n",
       "<p>300 rows × 10 columns</p>\n",
       "</div>"
      ],
      "text/plain": [
       "     years_of_experience  functional_competency_score  top1_skills_score  \\\n",
       "0               0.333333                     0.749498           0.777778   \n",
       "1               0.133333                     0.490638           0.777778   \n",
       "2               0.000000                     0.460256           0.444444   \n",
       "3               0.000000                     0.507347           0.555556   \n",
       "4               0.400000                     0.662020           0.666667   \n",
       "..                   ...                          ...                ...   \n",
       "295             0.000000                     0.576078           0.555556   \n",
       "296             0.000000                     0.587738           0.555556   \n",
       "297             0.400000                     0.740044           0.666667   \n",
       "298             0.333333                     0.654656           0.666667   \n",
       "299             0.600000                     0.754280           0.222222   \n",
       "\n",
       "     top2_skills_score  top3_skills_score  behavior_competency_score  \\\n",
       "0                  0.7                0.8                   0.769231   \n",
       "1                  0.3                0.4                   0.153846   \n",
       "2                  0.3                0.3                   0.051282   \n",
       "3                  0.4                0.5                   0.384615   \n",
       "4                  0.7                0.5                   0.461538   \n",
       "..                 ...                ...                        ...   \n",
       "295                0.6                0.6                   0.230769   \n",
       "296                0.5                0.5                   0.230769   \n",
       "297                0.5                0.7                   0.615385   \n",
       "298                0.5                0.7                   0.589744   \n",
       "299                0.7                0.8                   0.820513   \n",
       "\n",
       "     top1_behavior_skill_score  top2_behavior_skill_score  \\\n",
       "0                     0.931689                   0.662042   \n",
       "1                     0.352093                   0.132231   \n",
       "2                     0.052347                   0.089765   \n",
       "3                     0.309913                   0.289758   \n",
       "4                     0.497929                   0.397544   \n",
       "..                         ...                        ...   \n",
       "295                   0.421105                   0.354628   \n",
       "296                   0.426939                   0.201772   \n",
       "297                   0.681916                   0.562821   \n",
       "298                   0.585173                   0.549063   \n",
       "299                   0.936553                   0.793214   \n",
       "\n",
       "     top3_behavior_skill_score  call_for_interview  \n",
       "0                     0.752463                   1  \n",
       "1                     0.316905                   0  \n",
       "2                     0.254859                   0  \n",
       "3                     0.440784                   0  \n",
       "4                     0.392760                   1  \n",
       "..                         ...                 ...  \n",
       "295                   0.096438                   0  \n",
       "296                   0.430858                   1  \n",
       "297                   0.681403                   1  \n",
       "298                   0.663228                   1  \n",
       "299                   0.718935                   1  \n",
       "\n",
       "[300 rows x 10 columns]"
      ]
     },
     "execution_count": 7,
     "metadata": {},
     "output_type": "execute_result"
    }
   ],
   "source": [
    "df=pd.read_csv(\"C:\\\\Users\\\\dell\\\\Downloads\\\\dataset (1).csv\")\n",
    "df"
   ]
  },
  {
   "cell_type": "code",
   "execution_count": 12,
   "id": "6bf9ff46",
   "metadata": {},
   "outputs": [
    {
     "data": {
      "text/plain": [
       "(300, 10)"
      ]
     },
     "execution_count": 12,
     "metadata": {},
     "output_type": "execute_result"
    }
   ],
   "source": [
    "df.shape"
   ]
  },
  {
   "cell_type": "code",
   "execution_count": 13,
   "id": "20b0fdaa",
   "metadata": {},
   "outputs": [
    {
     "data": {
      "text/html": [
       "<div>\n",
       "<style scoped>\n",
       "    .dataframe tbody tr th:only-of-type {\n",
       "        vertical-align: middle;\n",
       "    }\n",
       "\n",
       "    .dataframe tbody tr th {\n",
       "        vertical-align: top;\n",
       "    }\n",
       "\n",
       "    .dataframe thead th {\n",
       "        text-align: right;\n",
       "    }\n",
       "</style>\n",
       "<table border=\"1\" class=\"dataframe\">\n",
       "  <thead>\n",
       "    <tr style=\"text-align: right;\">\n",
       "      <th></th>\n",
       "      <th>years_of_experience</th>\n",
       "      <th>functional_competency_score</th>\n",
       "      <th>top1_skills_score</th>\n",
       "      <th>top2_skills_score</th>\n",
       "      <th>top3_skills_score</th>\n",
       "      <th>behavior_competency_score</th>\n",
       "      <th>top1_behavior_skill_score</th>\n",
       "      <th>top2_behavior_skill_score</th>\n",
       "      <th>top3_behavior_skill_score</th>\n",
       "      <th>call_for_interview</th>\n",
       "    </tr>\n",
       "  </thead>\n",
       "  <tbody>\n",
       "    <tr>\n",
       "      <th>years_of_experience</th>\n",
       "      <td>1.000000</td>\n",
       "      <td>0.484385</td>\n",
       "      <td>0.700972</td>\n",
       "      <td>0.724461</td>\n",
       "      <td>0.723322</td>\n",
       "      <td>0.844601</td>\n",
       "      <td>0.779496</td>\n",
       "      <td>0.763149</td>\n",
       "      <td>0.758750</td>\n",
       "      <td>0.729106</td>\n",
       "    </tr>\n",
       "    <tr>\n",
       "      <th>functional_competency_score</th>\n",
       "      <td>0.484385</td>\n",
       "      <td>1.000000</td>\n",
       "      <td>0.448156</td>\n",
       "      <td>0.336625</td>\n",
       "      <td>0.424862</td>\n",
       "      <td>0.540435</td>\n",
       "      <td>0.710381</td>\n",
       "      <td>0.733491</td>\n",
       "      <td>0.719157</td>\n",
       "      <td>0.522524</td>\n",
       "    </tr>\n",
       "    <tr>\n",
       "      <th>top1_skills_score</th>\n",
       "      <td>0.700972</td>\n",
       "      <td>0.448156</td>\n",
       "      <td>1.000000</td>\n",
       "      <td>0.643529</td>\n",
       "      <td>0.674967</td>\n",
       "      <td>0.704187</td>\n",
       "      <td>0.646804</td>\n",
       "      <td>0.643773</td>\n",
       "      <td>0.622125</td>\n",
       "      <td>0.663129</td>\n",
       "    </tr>\n",
       "    <tr>\n",
       "      <th>top2_skills_score</th>\n",
       "      <td>0.724461</td>\n",
       "      <td>0.336625</td>\n",
       "      <td>0.643529</td>\n",
       "      <td>1.000000</td>\n",
       "      <td>0.630362</td>\n",
       "      <td>0.722321</td>\n",
       "      <td>0.615678</td>\n",
       "      <td>0.645544</td>\n",
       "      <td>0.612292</td>\n",
       "      <td>0.606479</td>\n",
       "    </tr>\n",
       "    <tr>\n",
       "      <th>top3_skills_score</th>\n",
       "      <td>0.723322</td>\n",
       "      <td>0.424862</td>\n",
       "      <td>0.674967</td>\n",
       "      <td>0.630362</td>\n",
       "      <td>1.000000</td>\n",
       "      <td>0.728601</td>\n",
       "      <td>0.669923</td>\n",
       "      <td>0.678711</td>\n",
       "      <td>0.663275</td>\n",
       "      <td>0.573296</td>\n",
       "    </tr>\n",
       "    <tr>\n",
       "      <th>behavior_competency_score</th>\n",
       "      <td>0.844601</td>\n",
       "      <td>0.540435</td>\n",
       "      <td>0.704187</td>\n",
       "      <td>0.722321</td>\n",
       "      <td>0.728601</td>\n",
       "      <td>1.000000</td>\n",
       "      <td>0.890382</td>\n",
       "      <td>0.883150</td>\n",
       "      <td>0.890949</td>\n",
       "      <td>0.729579</td>\n",
       "    </tr>\n",
       "    <tr>\n",
       "      <th>top1_behavior_skill_score</th>\n",
       "      <td>0.779496</td>\n",
       "      <td>0.710381</td>\n",
       "      <td>0.646804</td>\n",
       "      <td>0.615678</td>\n",
       "      <td>0.669923</td>\n",
       "      <td>0.890382</td>\n",
       "      <td>1.000000</td>\n",
       "      <td>0.866254</td>\n",
       "      <td>0.874111</td>\n",
       "      <td>0.698488</td>\n",
       "    </tr>\n",
       "    <tr>\n",
       "      <th>top2_behavior_skill_score</th>\n",
       "      <td>0.763149</td>\n",
       "      <td>0.733491</td>\n",
       "      <td>0.643773</td>\n",
       "      <td>0.645544</td>\n",
       "      <td>0.678711</td>\n",
       "      <td>0.883150</td>\n",
       "      <td>0.866254</td>\n",
       "      <td>1.000000</td>\n",
       "      <td>0.870280</td>\n",
       "      <td>0.670361</td>\n",
       "    </tr>\n",
       "    <tr>\n",
       "      <th>top3_behavior_skill_score</th>\n",
       "      <td>0.758750</td>\n",
       "      <td>0.719157</td>\n",
       "      <td>0.622125</td>\n",
       "      <td>0.612292</td>\n",
       "      <td>0.663275</td>\n",
       "      <td>0.890949</td>\n",
       "      <td>0.874111</td>\n",
       "      <td>0.870280</td>\n",
       "      <td>1.000000</td>\n",
       "      <td>0.728638</td>\n",
       "    </tr>\n",
       "    <tr>\n",
       "      <th>call_for_interview</th>\n",
       "      <td>0.729106</td>\n",
       "      <td>0.522524</td>\n",
       "      <td>0.663129</td>\n",
       "      <td>0.606479</td>\n",
       "      <td>0.573296</td>\n",
       "      <td>0.729579</td>\n",
       "      <td>0.698488</td>\n",
       "      <td>0.670361</td>\n",
       "      <td>0.728638</td>\n",
       "      <td>1.000000</td>\n",
       "    </tr>\n",
       "  </tbody>\n",
       "</table>\n",
       "</div>"
      ],
      "text/plain": [
       "                             years_of_experience  functional_competency_score  \\\n",
       "years_of_experience                     1.000000                     0.484385   \n",
       "functional_competency_score             0.484385                     1.000000   \n",
       "top1_skills_score                       0.700972                     0.448156   \n",
       "top2_skills_score                       0.724461                     0.336625   \n",
       "top3_skills_score                       0.723322                     0.424862   \n",
       "behavior_competency_score               0.844601                     0.540435   \n",
       "top1_behavior_skill_score               0.779496                     0.710381   \n",
       "top2_behavior_skill_score               0.763149                     0.733491   \n",
       "top3_behavior_skill_score               0.758750                     0.719157   \n",
       "call_for_interview                      0.729106                     0.522524   \n",
       "\n",
       "                             top1_skills_score  top2_skills_score  \\\n",
       "years_of_experience                   0.700972           0.724461   \n",
       "functional_competency_score           0.448156           0.336625   \n",
       "top1_skills_score                     1.000000           0.643529   \n",
       "top2_skills_score                     0.643529           1.000000   \n",
       "top3_skills_score                     0.674967           0.630362   \n",
       "behavior_competency_score             0.704187           0.722321   \n",
       "top1_behavior_skill_score             0.646804           0.615678   \n",
       "top2_behavior_skill_score             0.643773           0.645544   \n",
       "top3_behavior_skill_score             0.622125           0.612292   \n",
       "call_for_interview                    0.663129           0.606479   \n",
       "\n",
       "                             top3_skills_score  behavior_competency_score  \\\n",
       "years_of_experience                   0.723322                   0.844601   \n",
       "functional_competency_score           0.424862                   0.540435   \n",
       "top1_skills_score                     0.674967                   0.704187   \n",
       "top2_skills_score                     0.630362                   0.722321   \n",
       "top3_skills_score                     1.000000                   0.728601   \n",
       "behavior_competency_score             0.728601                   1.000000   \n",
       "top1_behavior_skill_score             0.669923                   0.890382   \n",
       "top2_behavior_skill_score             0.678711                   0.883150   \n",
       "top3_behavior_skill_score             0.663275                   0.890949   \n",
       "call_for_interview                    0.573296                   0.729579   \n",
       "\n",
       "                             top1_behavior_skill_score  \\\n",
       "years_of_experience                           0.779496   \n",
       "functional_competency_score                   0.710381   \n",
       "top1_skills_score                             0.646804   \n",
       "top2_skills_score                             0.615678   \n",
       "top3_skills_score                             0.669923   \n",
       "behavior_competency_score                     0.890382   \n",
       "top1_behavior_skill_score                     1.000000   \n",
       "top2_behavior_skill_score                     0.866254   \n",
       "top3_behavior_skill_score                     0.874111   \n",
       "call_for_interview                            0.698488   \n",
       "\n",
       "                             top2_behavior_skill_score  \\\n",
       "years_of_experience                           0.763149   \n",
       "functional_competency_score                   0.733491   \n",
       "top1_skills_score                             0.643773   \n",
       "top2_skills_score                             0.645544   \n",
       "top3_skills_score                             0.678711   \n",
       "behavior_competency_score                     0.883150   \n",
       "top1_behavior_skill_score                     0.866254   \n",
       "top2_behavior_skill_score                     1.000000   \n",
       "top3_behavior_skill_score                     0.870280   \n",
       "call_for_interview                            0.670361   \n",
       "\n",
       "                             top3_behavior_skill_score  call_for_interview  \n",
       "years_of_experience                           0.758750            0.729106  \n",
       "functional_competency_score                   0.719157            0.522524  \n",
       "top1_skills_score                             0.622125            0.663129  \n",
       "top2_skills_score                             0.612292            0.606479  \n",
       "top3_skills_score                             0.663275            0.573296  \n",
       "behavior_competency_score                     0.890949            0.729579  \n",
       "top1_behavior_skill_score                     0.874111            0.698488  \n",
       "top2_behavior_skill_score                     0.870280            0.670361  \n",
       "top3_behavior_skill_score                     1.000000            0.728638  \n",
       "call_for_interview                            0.728638            1.000000  "
      ]
     },
     "execution_count": 13,
     "metadata": {},
     "output_type": "execute_result"
    }
   ],
   "source": [
    "df.corr()"
   ]
  },
  {
   "cell_type": "code",
   "execution_count": 14,
   "id": "1afc37b9",
   "metadata": {},
   "outputs": [],
   "source": [
    "from sklearn.model_selection import train_test_split"
   ]
  },
  {
   "cell_type": "code",
   "execution_count": 15,
   "id": "ab1236c0",
   "metadata": {},
   "outputs": [],
   "source": [
    "X=df.iloc[:,0:9]\n",
    "y=df.iloc[:,-1]"
   ]
  },
  {
   "cell_type": "code",
   "execution_count": 16,
   "id": "5091fadd",
   "metadata": {},
   "outputs": [
    {
     "data": {
      "text/plain": [
       "(300, 9)"
      ]
     },
     "execution_count": 16,
     "metadata": {},
     "output_type": "execute_result"
    }
   ],
   "source": [
    "X.shape"
   ]
  },
  {
   "cell_type": "code",
   "execution_count": 17,
   "id": "f1eef302",
   "metadata": {},
   "outputs": [
    {
     "data": {
      "text/plain": [
       "(300,)"
      ]
     },
     "execution_count": 17,
     "metadata": {},
     "output_type": "execute_result"
    }
   ],
   "source": [
    "y.shape"
   ]
  },
  {
   "cell_type": "code",
   "execution_count": 18,
   "id": "ef1ffae1",
   "metadata": {},
   "outputs": [],
   "source": [
    "X_train,X_test,y_train,y_test=train_test_split(X,y,test_size=0.2,random_state=20)"
   ]
  },
  {
   "cell_type": "code",
   "execution_count": 19,
   "id": "68fadf7f",
   "metadata": {},
   "outputs": [
    {
     "data": {
      "text/plain": [
       "(240, 9)"
      ]
     },
     "execution_count": 19,
     "metadata": {},
     "output_type": "execute_result"
    }
   ],
   "source": [
    "X_train.shape"
   ]
  },
  {
   "cell_type": "code",
   "execution_count": 20,
   "id": "dbd9ea6d",
   "metadata": {},
   "outputs": [
    {
     "data": {
      "text/plain": [
       "(240,)"
      ]
     },
     "execution_count": 20,
     "metadata": {},
     "output_type": "execute_result"
    }
   ],
   "source": [
    "y_train.shape"
   ]
  },
  {
   "cell_type": "code",
   "execution_count": 21,
   "id": "45635edd",
   "metadata": {},
   "outputs": [
    {
     "data": {
      "text/plain": [
       "(60, 9)"
      ]
     },
     "execution_count": 21,
     "metadata": {},
     "output_type": "execute_result"
    }
   ],
   "source": [
    "X_test.shape"
   ]
  },
  {
   "cell_type": "code",
   "execution_count": 22,
   "id": "44086698",
   "metadata": {},
   "outputs": [
    {
     "data": {
      "text/plain": [
       "(60,)"
      ]
     },
     "execution_count": 22,
     "metadata": {},
     "output_type": "execute_result"
    }
   ],
   "source": [
    "y_test.shape"
   ]
  },
  {
   "cell_type": "code",
   "execution_count": 23,
   "id": "a7de42f7",
   "metadata": {},
   "outputs": [],
   "source": [
    "from sklearn.linear_model import LogisticRegression"
   ]
  },
  {
   "cell_type": "code",
   "execution_count": 24,
   "id": "b5e254c6",
   "metadata": {},
   "outputs": [],
   "source": [
    "clf=LogisticRegression()"
   ]
  },
  {
   "cell_type": "code",
   "execution_count": 25,
   "id": "f76d6464",
   "metadata": {},
   "outputs": [
    {
     "data": {
      "text/html": [
       "<style>#sk-container-id-1 {color: black;background-color: white;}#sk-container-id-1 pre{padding: 0;}#sk-container-id-1 div.sk-toggleable {background-color: white;}#sk-container-id-1 label.sk-toggleable__label {cursor: pointer;display: block;width: 100%;margin-bottom: 0;padding: 0.3em;box-sizing: border-box;text-align: center;}#sk-container-id-1 label.sk-toggleable__label-arrow:before {content: \"▸\";float: left;margin-right: 0.25em;color: #696969;}#sk-container-id-1 label.sk-toggleable__label-arrow:hover:before {color: black;}#sk-container-id-1 div.sk-estimator:hover label.sk-toggleable__label-arrow:before {color: black;}#sk-container-id-1 div.sk-toggleable__content {max-height: 0;max-width: 0;overflow: hidden;text-align: left;background-color: #f0f8ff;}#sk-container-id-1 div.sk-toggleable__content pre {margin: 0.2em;color: black;border-radius: 0.25em;background-color: #f0f8ff;}#sk-container-id-1 input.sk-toggleable__control:checked~div.sk-toggleable__content {max-height: 200px;max-width: 100%;overflow: auto;}#sk-container-id-1 input.sk-toggleable__control:checked~label.sk-toggleable__label-arrow:before {content: \"▾\";}#sk-container-id-1 div.sk-estimator input.sk-toggleable__control:checked~label.sk-toggleable__label {background-color: #d4ebff;}#sk-container-id-1 div.sk-label input.sk-toggleable__control:checked~label.sk-toggleable__label {background-color: #d4ebff;}#sk-container-id-1 input.sk-hidden--visually {border: 0;clip: rect(1px 1px 1px 1px);clip: rect(1px, 1px, 1px, 1px);height: 1px;margin: -1px;overflow: hidden;padding: 0;position: absolute;width: 1px;}#sk-container-id-1 div.sk-estimator {font-family: monospace;background-color: #f0f8ff;border: 1px dotted black;border-radius: 0.25em;box-sizing: border-box;margin-bottom: 0.5em;}#sk-container-id-1 div.sk-estimator:hover {background-color: #d4ebff;}#sk-container-id-1 div.sk-parallel-item::after {content: \"\";width: 100%;border-bottom: 1px solid gray;flex-grow: 1;}#sk-container-id-1 div.sk-label:hover label.sk-toggleable__label {background-color: #d4ebff;}#sk-container-id-1 div.sk-serial::before {content: \"\";position: absolute;border-left: 1px solid gray;box-sizing: border-box;top: 0;bottom: 0;left: 50%;z-index: 0;}#sk-container-id-1 div.sk-serial {display: flex;flex-direction: column;align-items: center;background-color: white;padding-right: 0.2em;padding-left: 0.2em;position: relative;}#sk-container-id-1 div.sk-item {position: relative;z-index: 1;}#sk-container-id-1 div.sk-parallel {display: flex;align-items: stretch;justify-content: center;background-color: white;position: relative;}#sk-container-id-1 div.sk-item::before, #sk-container-id-1 div.sk-parallel-item::before {content: \"\";position: absolute;border-left: 1px solid gray;box-sizing: border-box;top: 0;bottom: 0;left: 50%;z-index: -1;}#sk-container-id-1 div.sk-parallel-item {display: flex;flex-direction: column;z-index: 1;position: relative;background-color: white;}#sk-container-id-1 div.sk-parallel-item:first-child::after {align-self: flex-end;width: 50%;}#sk-container-id-1 div.sk-parallel-item:last-child::after {align-self: flex-start;width: 50%;}#sk-container-id-1 div.sk-parallel-item:only-child::after {width: 0;}#sk-container-id-1 div.sk-dashed-wrapped {border: 1px dashed gray;margin: 0 0.4em 0.5em 0.4em;box-sizing: border-box;padding-bottom: 0.4em;background-color: white;}#sk-container-id-1 div.sk-label label {font-family: monospace;font-weight: bold;display: inline-block;line-height: 1.2em;}#sk-container-id-1 div.sk-label-container {text-align: center;}#sk-container-id-1 div.sk-container {/* jupyter's `normalize.less` sets `[hidden] { display: none; }` but bootstrap.min.css set `[hidden] { display: none !important; }` so we also need the `!important` here to be able to override the default hidden behavior on the sphinx rendered scikit-learn.org. See: https://github.com/scikit-learn/scikit-learn/issues/21755 */display: inline-block !important;position: relative;}#sk-container-id-1 div.sk-text-repr-fallback {display: none;}</style><div id=\"sk-container-id-1\" class=\"sk-top-container\"><div class=\"sk-text-repr-fallback\"><pre>LogisticRegression()</pre><b>In a Jupyter environment, please rerun this cell to show the HTML representation or trust the notebook. <br />On GitHub, the HTML representation is unable to render, please try loading this page with nbviewer.org.</b></div><div class=\"sk-container\" hidden><div class=\"sk-item\"><div class=\"sk-estimator sk-toggleable\"><input class=\"sk-toggleable__control sk-hidden--visually\" id=\"sk-estimator-id-1\" type=\"checkbox\" checked><label for=\"sk-estimator-id-1\" class=\"sk-toggleable__label sk-toggleable__label-arrow\">LogisticRegression</label><div class=\"sk-toggleable__content\"><pre>LogisticRegression()</pre></div></div></div></div></div>"
      ],
      "text/plain": [
       "LogisticRegression()"
      ]
     },
     "execution_count": 25,
     "metadata": {},
     "output_type": "execute_result"
    }
   ],
   "source": [
    "clf.fit(X_train,y_train)"
   ]
  },
  {
   "cell_type": "code",
   "execution_count": 26,
   "id": "a54f85c7",
   "metadata": {},
   "outputs": [
    {
     "data": {
      "text/plain": [
       "array([1, 1, 0, 0, 1, 0, 0, 0, 1, 0, 1, 0, 0, 0, 1, 1, 0, 1, 0, 0, 1, 0,\n",
       "       0, 0, 1, 0, 0, 0, 1, 0, 1, 0, 0, 0, 1, 1, 0, 0, 1, 0, 0, 1, 1, 1,\n",
       "       0, 0, 1, 1, 0, 0, 0, 0, 1, 1, 1, 1, 0, 1, 1, 1], dtype=int64)"
      ]
     },
     "execution_count": 26,
     "metadata": {},
     "output_type": "execute_result"
    }
   ],
   "source": [
    "y_pred=clf.predict(X_test)\n",
    "y_pred"
   ]
  },
  {
   "cell_type": "code",
   "execution_count": 27,
   "id": "e120d11e",
   "metadata": {},
   "outputs": [],
   "source": [
    "from sklearn.metrics import accuracy_score"
   ]
  },
  {
   "cell_type": "code",
   "execution_count": 28,
   "id": "bb0490ce",
   "metadata": {},
   "outputs": [
    {
     "data": {
      "text/plain": [
       "0.85"
      ]
     },
     "execution_count": 28,
     "metadata": {},
     "output_type": "execute_result"
    }
   ],
   "source": [
    "accuracy_score(y_test,y_pred)"
   ]
  },
  {
   "cell_type": "code",
   "execution_count": 29,
   "id": "17da0d47",
   "metadata": {},
   "outputs": [],
   "source": [
    "from sklearn.neighbors import KNeighborsClassifier"
   ]
  },
  {
   "cell_type": "code",
   "execution_count": 30,
   "id": "4e5919f4",
   "metadata": {},
   "outputs": [
    {
     "data": {
      "text/html": [
       "<style>#sk-container-id-2 {color: black;background-color: white;}#sk-container-id-2 pre{padding: 0;}#sk-container-id-2 div.sk-toggleable {background-color: white;}#sk-container-id-2 label.sk-toggleable__label {cursor: pointer;display: block;width: 100%;margin-bottom: 0;padding: 0.3em;box-sizing: border-box;text-align: center;}#sk-container-id-2 label.sk-toggleable__label-arrow:before {content: \"▸\";float: left;margin-right: 0.25em;color: #696969;}#sk-container-id-2 label.sk-toggleable__label-arrow:hover:before {color: black;}#sk-container-id-2 div.sk-estimator:hover label.sk-toggleable__label-arrow:before {color: black;}#sk-container-id-2 div.sk-toggleable__content {max-height: 0;max-width: 0;overflow: hidden;text-align: left;background-color: #f0f8ff;}#sk-container-id-2 div.sk-toggleable__content pre {margin: 0.2em;color: black;border-radius: 0.25em;background-color: #f0f8ff;}#sk-container-id-2 input.sk-toggleable__control:checked~div.sk-toggleable__content {max-height: 200px;max-width: 100%;overflow: auto;}#sk-container-id-2 input.sk-toggleable__control:checked~label.sk-toggleable__label-arrow:before {content: \"▾\";}#sk-container-id-2 div.sk-estimator input.sk-toggleable__control:checked~label.sk-toggleable__label {background-color: #d4ebff;}#sk-container-id-2 div.sk-label input.sk-toggleable__control:checked~label.sk-toggleable__label {background-color: #d4ebff;}#sk-container-id-2 input.sk-hidden--visually {border: 0;clip: rect(1px 1px 1px 1px);clip: rect(1px, 1px, 1px, 1px);height: 1px;margin: -1px;overflow: hidden;padding: 0;position: absolute;width: 1px;}#sk-container-id-2 div.sk-estimator {font-family: monospace;background-color: #f0f8ff;border: 1px dotted black;border-radius: 0.25em;box-sizing: border-box;margin-bottom: 0.5em;}#sk-container-id-2 div.sk-estimator:hover {background-color: #d4ebff;}#sk-container-id-2 div.sk-parallel-item::after {content: \"\";width: 100%;border-bottom: 1px solid gray;flex-grow: 1;}#sk-container-id-2 div.sk-label:hover label.sk-toggleable__label {background-color: #d4ebff;}#sk-container-id-2 div.sk-serial::before {content: \"\";position: absolute;border-left: 1px solid gray;box-sizing: border-box;top: 0;bottom: 0;left: 50%;z-index: 0;}#sk-container-id-2 div.sk-serial {display: flex;flex-direction: column;align-items: center;background-color: white;padding-right: 0.2em;padding-left: 0.2em;position: relative;}#sk-container-id-2 div.sk-item {position: relative;z-index: 1;}#sk-container-id-2 div.sk-parallel {display: flex;align-items: stretch;justify-content: center;background-color: white;position: relative;}#sk-container-id-2 div.sk-item::before, #sk-container-id-2 div.sk-parallel-item::before {content: \"\";position: absolute;border-left: 1px solid gray;box-sizing: border-box;top: 0;bottom: 0;left: 50%;z-index: -1;}#sk-container-id-2 div.sk-parallel-item {display: flex;flex-direction: column;z-index: 1;position: relative;background-color: white;}#sk-container-id-2 div.sk-parallel-item:first-child::after {align-self: flex-end;width: 50%;}#sk-container-id-2 div.sk-parallel-item:last-child::after {align-self: flex-start;width: 50%;}#sk-container-id-2 div.sk-parallel-item:only-child::after {width: 0;}#sk-container-id-2 div.sk-dashed-wrapped {border: 1px dashed gray;margin: 0 0.4em 0.5em 0.4em;box-sizing: border-box;padding-bottom: 0.4em;background-color: white;}#sk-container-id-2 div.sk-label label {font-family: monospace;font-weight: bold;display: inline-block;line-height: 1.2em;}#sk-container-id-2 div.sk-label-container {text-align: center;}#sk-container-id-2 div.sk-container {/* jupyter's `normalize.less` sets `[hidden] { display: none; }` but bootstrap.min.css set `[hidden] { display: none !important; }` so we also need the `!important` here to be able to override the default hidden behavior on the sphinx rendered scikit-learn.org. See: https://github.com/scikit-learn/scikit-learn/issues/21755 */display: inline-block !important;position: relative;}#sk-container-id-2 div.sk-text-repr-fallback {display: none;}</style><div id=\"sk-container-id-2\" class=\"sk-top-container\"><div class=\"sk-text-repr-fallback\"><pre>KNeighborsClassifier()</pre><b>In a Jupyter environment, please rerun this cell to show the HTML representation or trust the notebook. <br />On GitHub, the HTML representation is unable to render, please try loading this page with nbviewer.org.</b></div><div class=\"sk-container\" hidden><div class=\"sk-item\"><div class=\"sk-estimator sk-toggleable\"><input class=\"sk-toggleable__control sk-hidden--visually\" id=\"sk-estimator-id-2\" type=\"checkbox\" checked><label for=\"sk-estimator-id-2\" class=\"sk-toggleable__label sk-toggleable__label-arrow\">KNeighborsClassifier</label><div class=\"sk-toggleable__content\"><pre>KNeighborsClassifier()</pre></div></div></div></div></div>"
      ],
      "text/plain": [
       "KNeighborsClassifier()"
      ]
     },
     "execution_count": 30,
     "metadata": {},
     "output_type": "execute_result"
    }
   ],
   "source": [
    "knn = KNeighborsClassifier()\n",
    "knn.fit(X_train,y_train)"
   ]
  },
  {
   "cell_type": "code",
   "execution_count": 31,
   "id": "be9c53c7",
   "metadata": {},
   "outputs": [],
   "source": [
    "y_pred = knn.predict(X_test)"
   ]
  },
  {
   "cell_type": "code",
   "execution_count": 33,
   "id": "39f8b117",
   "metadata": {},
   "outputs": [
    {
     "data": {
      "text/plain": [
       "0.9541666666666667"
      ]
     },
     "execution_count": 33,
     "metadata": {},
     "output_type": "execute_result"
    }
   ],
   "source": [
    "knn.score(X_train,y_train)"
   ]
  },
  {
   "cell_type": "code",
   "execution_count": 34,
   "id": "e6618546",
   "metadata": {},
   "outputs": [
    {
     "data": {
      "text/plain": [
       "0.8166666666666667"
      ]
     },
     "execution_count": 34,
     "metadata": {},
     "output_type": "execute_result"
    }
   ],
   "source": [
    "accuracy_score(y_test,y_pred)"
   ]
  }
 ],
 "metadata": {
  "kernelspec": {
   "display_name": "Python 3 (ipykernel)",
   "language": "python",
   "name": "python3"
  },
  "language_info": {
   "codemirror_mode": {
    "name": "ipython",
    "version": 3
   },
   "file_extension": ".py",
   "mimetype": "text/x-python",
   "name": "python",
   "nbconvert_exporter": "python",
   "pygments_lexer": "ipython3",
   "version": "3.9.12"
  }
 },
 "nbformat": 4,
 "nbformat_minor": 5
}
